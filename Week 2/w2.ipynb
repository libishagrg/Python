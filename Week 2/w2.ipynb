{
 "cells": [
  {
   "cell_type": "code",
   "execution_count": 13,
   "metadata": {},
   "outputs": [
    {
     "name": "stdout",
     "output_type": "stream",
     "text": [
      "1\n",
      "3\n",
      "9\n",
      "11\n",
      "12\n",
      "14\n",
      "16\n",
      "17\n",
      "21\n",
      "22\n",
      "26\n",
      "28\n",
      "31\n",
      "36\n",
      "37\n",
      "41\n",
      "42\n",
      "46\n",
      "48\n",
      "49\n"
     ]
    }
   ],
   "source": [
    "# Write a Python program that takes a list of numbers and:\n",
    "# Print the numbers in the list but skip numbers that are divisible by 5.\n",
    "# Stops the loop if a number greater than 50 is encountered.\n",
    "\n",
    "list = [1,3,5,9,11,12,14,16,17,20,21,22,25,26,28,31,35,36,37,41,42,46,48,49,50, 54,56,59,60]\n",
    "\n",
    "for i in list:\n",
    "    if i > 50:\n",
    "        break\n",
    "    if i % 5 == 0:\n",
    "        continue\n",
    "    print(i)"
   ]
  },
  {
   "cell_type": "code",
   "execution_count": 5,
   "metadata": {},
   "outputs": [
    {
     "name": "stdout",
     "output_type": "stream",
     "text": [
      "Weak\n"
     ]
    }
   ],
   "source": [
    "## Write a Python program that takes a password as input and checks its strength based on the following conditions:\n",
    "## Weak: If the password is less than 6 characters or only contains letters.\n",
    "## Moderate: If the password has at least 6 characters and contains both letters and numbers.\n",
    "## Strong: If the password has at least 8 characters, contains letters, numbers, and special characters (@, #, $, %, &).\n",
    "\n",
    "password = input(\"Enter your password: \")\n",
    "if len(password) < 6 or password.isalpha():\n",
    "    print(\"Weak\")\n",
    "elif len(password) >= 6 and password.isalnum():\n",
    "    print(\"Moderate\") \n",
    "elif len(password) >= 8 and not password.isalnum():\n",
    "    print(\"Strong\")\n"
   ]
  },
  {
   "cell_type": "code",
   "execution_count": 6,
   "metadata": {},
   "outputs": [
    {
     "name": "stdout",
     "output_type": "stream",
     "text": [
      "hi ym name si libisha\n"
     ]
    }
   ],
   "source": [
    "## Write a Python program that takes a string as input and returns a new string where every alternate word is reversed while keeping the order of the words intact.\n",
    "\n",
    "string = input(\"Enter a string: \")\n",
    "words = string.split()\n",
    "new_string = \"\"\n",
    "for i, word in enumerate(words):\n",
    "    if i % 2 == 0:\n",
    "        new_string += word + \" \"\n",
    "    else:\n",
    "        new_string += word[::-1] + \" \"\n",
    "print(new_string.strip())"
   ]
  },
  {
   "cell_type": "code",
   "execution_count": 1,
   "metadata": {},
   "outputs": [
    {
     "name": "stdout",
     "output_type": "stream",
     "text": [
      "{'apple': 2, 'banana': 3}\n"
     ]
    }
   ],
   "source": [
    "#Write a Python program that takes a list of words and finds all words that appear more than once, storing them in a dictionary with their frequency count.\n",
    "\n",
    "list = [\"apple\", \"banana\", \"apple\", \"orange\", \"banana\", \"banana\"]\n",
    "dict1 = {}\n",
    "for item in list:\n",
    "    dict1[item] = dict1.get(item, 0) + 1\n",
    "repeated_items = {item: value for item, value in dict1.items() if value > 1}\n",
    "print(repeated_items)"
   ]
  },
  {
   "cell_type": "code",
   "execution_count": 4,
   "metadata": {},
   "outputs": [
    {
     "name": "stdout",
     "output_type": "stream",
     "text": [
      "Book is available\n"
     ]
    }
   ],
   "source": [
    "# Write a Python program that does the following:\n",
    "# Prompts the user to enter the name of the book they want.\n",
    "# Prompts the user to enter the number of copies they want to buy.\n",
    "# Checks if the book exists in the books dictionary.\n",
    "\n",
    "books = {\n",
    "    \"BOOK A\": 3,\n",
    "    \"BOOK B\": 5,\n",
    "    \"BOOK C\": 2,\n",
    "    \"BOOK D\": 7,\n",
    "    \"BOOK E\": 1\n",
    "}\n",
    "book_name = input(\"Enter the name of the book you want: \")\n",
    "copies = int(input(\"Enter the number of copies you want to buy: \"))\n",
    "if book_name in books:\n",
    "    if books[book_name] >= copies:\n",
    "        print(\"Book is available\")\n",
    "    else:\n",
    "        print(\"Book is not available\")\n",
    "else:\n",
    "    print(\"Book not found\")"
   ]
  },
  {
   "cell_type": "code",
   "execution_count": 4,
   "metadata": {},
   "outputs": [
    {
     "name": "stdout",
     "output_type": "stream",
     "text": [
      "{'this': 2, 'is': 3, 'good': 1}\n"
     ]
    }
   ],
   "source": [
    "# Write a program in python which takes a list of words as input and store the frequency of each word in dictionary  \n",
    "\n",
    "list = [\"this\",\"is\",\"this\",\"good\",\"is\",\"is\"]\n",
    "dict1 = {}\n",
    "for item in list:\n",
    "    if item in dict1:\n",
    "        dict1[item] += 1\n",
    "    else:\n",
    "        dict1[item] = 1\n",
    "print(dict1)"
   ]
  }
 ],
 "metadata": {
  "kernelspec": {
   "display_name": "Python 3",
   "language": "python",
   "name": "python3"
  },
  "language_info": {
   "codemirror_mode": {
    "name": "ipython",
    "version": 3
   },
   "file_extension": ".py",
   "mimetype": "text/x-python",
   "name": "python",
   "nbconvert_exporter": "python",
   "pygments_lexer": "ipython3",
   "version": "3.9.6"
  }
 },
 "nbformat": 4,
 "nbformat_minor": 2
}
