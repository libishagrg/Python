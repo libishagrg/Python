{
 "cells": [
  {
   "cell_type": "code",
   "execution_count": null,
   "metadata": {},
   "outputs": [
    {
     "name": "stdout",
     "output_type": "stream",
     "text": [
      "Squares of numbers:\n",
      "1\n",
      "4\n",
      "9\n",
      "16\n",
      "25\n",
      "36\n",
      "49\n",
      "64\n",
      "81\n",
      "100\n",
      "Squares of numbers that are even:\n",
      "4\n",
      "16\n",
      "36\n",
      "64\n",
      "100\n"
     ]
    },
    {
     "data": {
      "text/plain": [
       "[4, 16, 36, 64, 100]"
      ]
     },
     "execution_count": 12,
     "metadata": {},
     "output_type": "execute_result"
    }
   ],
   "source": [
    "# write a function in pythn which takes list of numbers as parameter and:\n",
    "# print the square of each number in the list\n",
    "# print the square of numbers only if the square is an even number\n",
    "# store the even square number in another list\n",
    "\n",
    "def square_numbers(numbers):\n",
    "    for number in numbers:\n",
    "        square = number ** 2\n",
    "        print(square)\n",
    "numbers = [1, 2, 3, 4, 5, 6, 7, 8, 9, 10]\n",
    "print(\"Square of numbers:\")\n",
    "square_numbers(numbers)\n",
    "\n",
    "def even_numbers(numbers):\n",
    "    for number in numbers:\n",
    "        square = number ** 2\n",
    "        if square % 2 == 0:\n",
    "            print(square)\n",
    "numbers = [1, 2, 3, 4, 5, 6, 7, 8, 9, 10]\n",
    "print(\"Square of numbers that are even:\")\n",
    "even_numbers(numbers)\n",
    "\n",
    "def numbers(numb):\n",
    "    even_squares = []\n",
    "    for number in numb:\n",
    "        square = number ** 2\n",
    "        if square % 2 == 0:\n",
    "            even_squares.append(square)\n",
    "    return even_squares\n",
    "numbers([1, 2, 3, 4, 5, 6, 7, 8, 9, 10])"
   ]
  },
  {
   "cell_type": "code",
   "execution_count": 7,
   "metadata": {},
   "outputs": [
    {
     "name": "stdout",
     "output_type": "stream",
     "text": [
      "82.0\n",
      "70.0\n",
      "80.0\n"
     ]
    }
   ],
   "source": [
    "#Create a class called Student with attributes name, age, and grades (a list of integers). \n",
    "#Write a method average_grade that calculates and returns the average grade of the student. \n",
    "#Create three Student objects and print their average grades.\n",
    "\n",
    "class Student:\n",
    "    def __init__(self, name, age, grades):\n",
    "        self.name = name\n",
    "        self.age = age\n",
    "        self.grades = grades\n",
    "    def average_grade(self):\n",
    "        return sum(self.grades) / len(self.grades)\n",
    "student1 = Student(\"Ram\", 20, [80, 90, 75, 80, 85])\n",
    "student2 = Student(\"Hari\", 18, [75, 65, 60, 80, 70])\n",
    "student3 = Student(\"Sita\", 21, [90, 85, 90, 75, 60])\n",
    "print(student1.average_grade())\n",
    "print(student2.average_grade())\n",
    "print(student3.average_grade())"
   ]
  },
  {
   "cell_type": "code",
   "execution_count": 8,
   "metadata": {},
   "outputs": [
    {
     "name": "stdout",
     "output_type": "stream",
     "text": [
      "Take a Bre\n",
      "The Alchem\n",
      "The Secret\n"
     ]
    }
   ],
   "source": [
    "#Create a class called Book with attributes title, author. \n",
    "#Write a method short_title that returns the first 10 characters of the book's title. \n",
    "#Create three Book objects and print their short titles.\n",
    "\n",
    "class Book:\n",
    "    def __init__(self, title, author):\n",
    "        self.title = title\n",
    "        self.author = author\n",
    "    def short_title(self):\n",
    "        return self.title[:10]\n",
    "book1 = Book(\"Take a Break\", \"John Doe\")\n",
    "book2 = Book(\"The Alchemist\", \"Paulo Coelho\")\n",
    "book3 = Book(\"The Secret\", \"Rhonda Byrne\")\n",
    "print(book1.short_title())\n",
    "print(book2.short_title())\n",
    "print(book3.short_title())"
   ]
  },
  {
   "cell_type": "code",
   "execution_count": 9,
   "metadata": {},
   "outputs": [
    {
     "name": "stdout",
     "output_type": "stream",
     "text": [
      "Sita\n",
      "Hari\n"
     ]
    }
   ],
   "source": [
    "#Create a class called StudentResult with attributes name, age, and average_grade and \n",
    "#include a method has_passed that returns True if the student's average grade is 50 or higher, and False otherwise . \n",
    "#Create three Student objects and print the names of the students who have passed.\n",
    "\n",
    "class StudentResult:\n",
    "    def __init__(self, name, age, average_grade):\n",
    "        self.name = name\n",
    "        self.age = age\n",
    "        self.average_grade = average_grade\n",
    "    def has_passed(self):\n",
    "        return self.average_grade >= 50\n",
    "student1 = StudentResult(\"Ram\", 19, 40)\n",
    "student2 = StudentResult(\"Sita\", 21, 85)\n",
    "student3 = StudentResult(\"Hari\", 20, 70)\n",
    "if student1.has_passed():\n",
    "    print(student1.name)\n",
    "if student2.has_passed():\n",
    "    print(student2.name)\n",
    "if student3.has_passed():\n",
    "    print(student3.name)\n"
   ]
  },
  {
   "cell_type": "code",
   "execution_count": 4,
   "metadata": {},
   "outputs": [
    {
     "name": "stdout",
     "output_type": "stream",
     "text": [
      "1420\n"
     ]
    }
   ],
   "source": [
    "#Create a class called ShoppingCart with a list attribute items (each item is a dictionary with keys name and price). \n",
    "#Write a method total_price that calculates and returns the total price of all items in the cart. \n",
    "#Create a ShoppingCart object, add five items to it, and print the total price.\n",
    "\n",
    "class ShoppingCart:\n",
    "    def __init__(self):\n",
    "        self.items = []\n",
    "    def total_price(self):\n",
    "        return sum(item[\"price\"] for item in self.items)\n",
    "cart = ShoppingCart()\n",
    "cart.items.append({\"name\": \"Laptop\", \"price\": 1000})\n",
    "cart.items.append({\"name\": \"Mouse\", \"price\": 20})\n",
    "cart.items.append({\"name\": \"Keyboard\", \"price\": 50})\n",
    "cart.items.append({\"name\": \"Monitor\", \"price\": 200})\n",
    "cart.items.append({\"name\": \"Printer\", \"price\": 150})\n",
    "print(cart.total_price()) "
   ]
  },
  {
   "cell_type": "code",
   "execution_count": 10,
   "metadata": {},
   "outputs": [
    {
     "name": "stdout",
     "output_type": "stream",
     "text": [
      "5\n"
     ]
    }
   ],
   "source": [
    "#Create a class called TextAnalyzer with a string attribute text. \n",
    "#Write a method word_count that returns the number of words in the text.\n",
    "#Create a TextAnalyzer object with a sample text and print the word count\n",
    "\n",
    "class TextAnalyzer:\n",
    "    def __init__(self, text):\n",
    "        self.text = text\n",
    "    def word_count(self):\n",
    "        return len(self.text.split())\n",
    "analyzer = TextAnalyzer(\"Hi, I am a student.\")\n",
    "print(analyzer.word_count())"
   ]
  },
  {
   "cell_type": "code",
   "execution_count": 15,
   "metadata": {},
   "outputs": [
    {
     "name": "stdout",
     "output_type": "stream",
     "text": [
      "Sorry - Justin Bieber\n",
      "Saturn - SZA\n",
      "Samarpan - Sabin Rai\n",
      "Apocalypse - Cigarettes After Sex\n",
      "Bardali - Sushant KC\n"
     ]
    }
   ],
   "source": [
    "#Create a class called Playlist with a list attribute songs (each song is a dictionary with keys title and artist). Write a method shuffle that randomly shuffles the songs in the playlist. Create a Playlist object, add five songs to it, shuffle the playlist, and print the shuffled list of songs.\n",
    "#Hint : \n",
    "#Use random.shuffle(list_varible) to shuffle (preq. import random)\n",
    "#Use loop to print the shuffled songs with title and artist\n",
    "\n",
    "import random\n",
    "class Playlist:\n",
    "    def __init__(self):\n",
    "        self.songs = []\n",
    "    def shuffle(self):\n",
    "        random.shuffle(self.songs)\n",
    "playlist = Playlist()\n",
    "playlist.songs.append({\"title\": \"Bardali\", \"artist\": \"Sushant KC\"})\n",
    "playlist.songs.append({\"title\": \"Apocalypse\", \"artist\": \"Cigarettes After Sex\"})      \n",
    "playlist.songs.append({\"title\": \"Samarpan\", \"artist\": \"Sabin Rai\"})\n",
    "playlist.songs.append({\"title\": \"Saturn\", \"artist\": \"SZA\"})\n",
    "playlist.songs.append({\"title\": \"Sorry\", \"artist\": \"Justin Bieber\"})\n",
    "playlist.shuffle()\n",
    "for song in playlist.songs:\n",
    "    print(song[\"title\"], \"-\", song[\"artist\"])"
   ]
  },
  {
   "cell_type": "code",
   "execution_count": null,
   "metadata": {},
   "outputs": [],
   "source": []
  }
 ],
 "metadata": {
  "kernelspec": {
   "display_name": "Python 3",
   "language": "python",
   "name": "python3"
  },
  "language_info": {
   "codemirror_mode": {
    "name": "ipython",
    "version": 3
   },
   "file_extension": ".py",
   "mimetype": "text/x-python",
   "name": "python",
   "nbconvert_exporter": "python",
   "pygments_lexer": "ipython3",
   "version": "3.9.6"
  }
 },
 "nbformat": 4,
 "nbformat_minor": 2
}
