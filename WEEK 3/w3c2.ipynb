{
 "cells": [
  {
   "cell_type": "code",
   "execution_count": null,
   "metadata": {},
   "outputs": [
    {
     "name": "stdout",
     "output_type": "stream",
     "text": [
      "Select operation:\n",
      "1. Add\n",
      "2. Subtract\n",
      "3. Multiply\n",
      "4. Divide\n",
      "You can't divide by zero\n"
     ]
    }
   ],
   "source": [
    "## Calculator\n",
    "\n",
    "def add(x, y):\n",
    "    return x + y\n",
    "\n",
    "def subtract(x, y):\n",
    "    return x - y\n",
    "\n",
    "def multiply(x, y):\n",
    "    return x * y\n",
    "\n",
    "def divide(x, y):\n",
    "    return x / y\n",
    "\n",
    "print(\"Select operation:\")\n",
    "print(\"1. Add\")\n",
    "print(\"2. Subtract\")\n",
    "print(\"3. Multiply\")\n",
    "print(\"4. Divide\")\n",
    "\n",
    "choose = int(input(\"Enter choice(1/2/3/4): \"))\n",
    "\n",
    "num1 = int(input(\"Enter first number: \"))\n",
    "num2 = int(input(\"Enter second number: \"))\n",
    "if choose == 1:\n",
    "    print(num1, \"+\", num2, \"=\", add(num1, num2))\n",
    "elif choose == 2:\n",
    "    print(num1, \"-\", num2, \"=\", subtract(num1, num2))\n",
    "elif choose == 3:\n",
    "    print(num1, \"*\", num2, \"=\", multiply(num1, num2))\n",
    "elif choose == 5:\n",
    "     if num2 == 0:\n",
    "        print(\"You can't divide by zero\")\n",
    "     else:\n",
    "        print(num1, \"/\", num2, \"=\", divide(num1, num2))\n",
    "else:\n",
    "    print(\"Invalid input\")\n"
   ]
  },
  {
   "cell_type": "code",
   "execution_count": 1,
   "metadata": {},
   "outputs": [
    {
     "name": "stdout",
     "output_type": "stream",
     "text": [
      "5\n"
     ]
    }
   ],
   "source": [
    "# Write a function count_vowels(text) that takes a string as input and returns the number of vowels (a, e, i, o, u) in the string. The function should be case insensitive (i.e., treat uppercase and lowercase letters the same).\n",
    "\n",
    "def count_vowels(text): \n",
    "    vowels = \"aeiou\"\n",
    "    count = 0\n",
    "    for char in text:\n",
    "        if char.lower() in vowels:\n",
    "            count += 1\n",
    "    return count\n",
    "text = input(\"Enter a text: \")\n",
    "print(count_vowels(text))"
   ]
  },
  {
   "cell_type": "code",
   "execution_count": null,
   "metadata": {},
   "outputs": [
    {
     "name": "stdout",
     "output_type": "stream",
     "text": [
      "100\n"
     ]
    }
   ],
   "source": [
    "# Write a function find_maximum(list1) that takes a list of numbers as input and returns the maximum number from the list.\n",
    "\n",
    "def find_maximum(list):\n",
    "    max = list[0]\n",
    "    for num in list:\n",
    "        if num > max:\n",
    "            max = num\n",
    "    return max\n",
    "list = [100,50,20,60,10]\n",
    "print(find_maximum(list))"
   ]
  },
  {
   "cell_type": "code",
   "execution_count": 5,
   "metadata": {},
   "outputs": [
    {
     "name": "stdout",
     "output_type": "stream",
     "text": [
      "4 x 1 = 4\n",
      "4 x 2 = 8\n",
      "4 x 3 = 12\n",
      "4 x 4 = 16\n",
      "4 x 5 = 20\n",
      "4 x 6 = 24\n",
      "4 x 7 = 28\n",
      "4 x 8 = 32\n",
      "4 x 9 = 36\n",
      "4 x 10 = 40\n"
     ]
    }
   ],
   "source": [
    "# Write a function multiplication_table(n) that takes a number n as input and prints the multiplication table of n from 1 to 10.\n",
    "\n",
    "def multiplication_table(n):\n",
    "    for i in range(1, 11):\n",
    "        print(n, \"x\", i, \"=\", n*i)\n",
    "n = int(input(\"Enter a number: \"))\n",
    "multiplication_table(n)"
   ]
  },
  {
   "cell_type": "code",
   "execution_count": 6,
   "metadata": {},
   "outputs": [
    {
     "name": "stdout",
     "output_type": "stream",
     "text": [
      "programming\n"
     ]
    }
   ],
   "source": [
    "# Write a function largest_word(sentence) that takes a sentence as input and returns the longest word in the sentence. If there are multiple words of the same length, return the first one that appears.\n",
    "\n",
    "def largest_word(sentence):\n",
    "    words = sentence.split()\n",
    "    longest = words[0]\n",
    "    for word in words:\n",
    "        if len(word) > len(longest):\n",
    "            longest = word\n",
    "    return longest\n",
    "sentence = input(\"Enter a sentence: \")\n",
    "print(largest_word(sentence))"
   ]
  },
  {
   "cell_type": "code",
   "execution_count": 7,
   "metadata": {},
   "outputs": [
    {
     "name": "stdout",
     "output_type": "stream",
     "text": [
      "15\n"
     ]
    }
   ],
   "source": [
    "# Write a function sum_of_list(numbers) that takes a list of numbers as input and returns the sum of all elements in the list. (Do not use the built-in sum() function).\n",
    "\n",
    "def sum_of_list(numbers):\n",
    "    sum = 0\n",
    "    for num in numbers:\n",
    "        sum += num\n",
    "    return sum\n",
    "numbers = [1,2,3,4,5]\n",
    "print(sum_of_list(numbers))"
   ]
  },
  {
   "cell_type": "code",
   "execution_count": 8,
   "metadata": {},
   "outputs": [
    {
     "name": "stdout",
     "output_type": "stream",
     "text": [
      "My Name Is Libisha Gurung \n"
     ]
    }
   ],
   "source": [
    "# Write a function to_title_case(sentence) that takes a sentence as input and returns the sentence in title case, where the first letter of each word is capitalized.\n",
    "\n",
    "def to_title_case(sentence):\n",
    "    words = sentence.split()\n",
    "    title_case = \"\"\n",
    "    for word in words:\n",
    "        title_case += word.capitalize() + \" \"\n",
    "    return title_case\n",
    "sentence = input(\"Enter a sentence: \")\n",
    "print(to_title_case(sentence))"
   ]
  },
  {
   "cell_type": "code",
   "execution_count": 10,
   "metadata": {},
   "outputs": [
    {
     "name": "stdout",
     "output_type": "stream",
     "text": [
      "False\n"
     ]
    }
   ],
   "source": [
    "# Write a function is_palindrome(word) that takes a string as input and returns True if the word is a palindrome (reads the same forward and backward), otherwise returns False.\n",
    "\n",
    "def is_palindrome(word):\n",
    "    return word == word[::-1]\n",
    "word = input(\"Enter a word: \")\n",
    "print(is_palindrome(word))"
   ]
  },
  {
   "cell_type": "code",
   "execution_count": 11,
   "metadata": {},
   "outputs": [
    {
     "name": "stdout",
     "output_type": "stream",
     "text": [
      "{'h': 1, 'e': 1, 'l': 2, 'o': 1}\n"
     ]
    }
   ],
   "source": [
    "# Write a function char_count(s) that takes a string as input and returns a dictionary where keys are the characters and values are their frequencies in the string.\n",
    "\n",
    "def char_count(s):\n",
    "    count = {}\n",
    "    for char in s:\n",
    "        if char in count:\n",
    "            count[char] += 1\n",
    "        else:\n",
    "            count[char] = 1\n",
    "    return count\n",
    "s = input(\"Enter a string: \")\n",
    "print(char_count(s))"
   ]
  },
  {
   "cell_type": "code",
   "execution_count": null,
   "metadata": {},
   "outputs": [],
   "source": []
  }
 ],
 "metadata": {
  "kernelspec": {
   "display_name": "Python 3",
   "language": "python",
   "name": "python3"
  },
  "language_info": {
   "codemirror_mode": {
    "name": "ipython",
    "version": 3
   },
   "file_extension": ".py",
   "mimetype": "text/x-python",
   "name": "python",
   "nbconvert_exporter": "python",
   "pygments_lexer": "ipython3",
   "version": "3.9.6"
  }
 },
 "nbformat": 4,
 "nbformat_minor": 2
}
